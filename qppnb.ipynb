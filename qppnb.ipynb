{
 "cells": [
  {
   "cell_type": "code",
   "execution_count": 3,
   "metadata": {},
   "outputs": [],
   "source": [
    "import pyterrier as pt\n",
    "import os\n",
    "import shutil\n",
    "from pyterrier.measures import *\n",
    "import matplotlib.pyplot as plt"
   ]
  },
  {
   "cell_type": "markdown",
   "metadata": {},
   "source": [
    "# Carga de dataset/s"
   ]
  },
  {
   "cell_type": "code",
   "execution_count": 4,
   "metadata": {},
   "outputs": [],
   "source": [
    "dataset = pt.get_dataset('irds:antique/test')"
   ]
  },
  {
   "cell_type": "markdown",
   "metadata": {},
   "source": [
    "# Indexación de los documentos\n",
    "\n",
    "Si existe el indice se te preguntara si quieres mantenerlo o borrarlo y construirlo de nuevo."
   ]
  },
  {
   "cell_type": "code",
   "execution_count": 5,
   "metadata": {},
   "outputs": [
    {
     "name": "stdout",
     "output_type": "stream",
     "text": [
      "Index deleted.\n"
     ]
    },
    {
     "name": "stderr",
     "output_type": "stream",
     "text": [
      "Java started (triggered by TerrierIndexer.__init__) and loaded: pyterrier.java, pyterrier.terrier.java [version=5.10 (build: craigm 2024-08-22 17:33), helper_version=0.0.8]\n",
      "antique/test documents:   0%|          | 506/403666 [00:00<09:54, 678.68it/s]"
     ]
    },
    {
     "name": "stdout",
     "output_type": "stream",
     "text": [
      "18:13:39.246 [ForkJoinPool-1-worker-1] WARN org.terrier.structures.indexing.Indexer -- Adding an empty document to the index (730691_1) - further warnings are suppressed\n"
     ]
    },
    {
     "name": "stderr",
     "output_type": "stream",
     "text": [
      "antique/test documents: 100%|██████████| 403666/403666 [00:30<00:00, 13177.46it/s]\n"
     ]
    },
    {
     "name": "stdout",
     "output_type": "stream",
     "text": [
      "18:14:13.932 [ForkJoinPool-1-worker-1] WARN org.terrier.structures.indexing.Indexer -- Indexed 2224 empty documents\n"
     ]
    }
   ],
   "source": [
    "index_path = './indices/antique'\n",
    "\n",
    "if os.path.exists(index_path):\n",
    "    response = input(f\"Index already exists at {index_path}. Do you want to delete it? (y/n): \")\n",
    "    if response.lower() == 'y':\n",
    "        shutil.rmtree(index_path)\n",
    "        print(\"Index deleted.\")\n",
    "        # Proceso de indexación\n",
    "        indexer = pt.IterDictIndexer(index_path)\n",
    "        index_ref = indexer.index(dataset.get_corpus_iter(), fields=['text'])\n",
    "    else:\n",
    "        print(\"Index not deleted.\")\n",
    "        index_ref = pt.IndexFactory.of(index_path)  # Uso de indexFactory para cargar el índice existente\n",
    "else:\n",
    "    # Indexación de documentos\n",
    "    indexer = pt.IterDictIndexer(index_path)\n",
    "    index_ref = indexer.index(dataset.get_corpus_iter(), fields=['text'])"
   ]
  },
  {
   "cell_type": "markdown",
   "metadata": {},
   "source": [
    "# Topicos del dataset"
   ]
  },
  {
   "cell_type": "code",
   "execution_count": 6,
   "metadata": {},
   "outputs": [
    {
     "name": "stdout",
     "output_type": "stream",
     "text": [
      "         qid                                              query\n",
      "0    3990512           how can we get concentration onsomething\n",
      "1     714612  why doesn t the water fall off earth if it s r...\n",
      "2    2528767  how do i determine the charge of the iron ion ...\n",
      "3     821387      i have mice how do i get rid of them humanely\n",
      "4    1880028   what does see leaflet mean on ept pregnancy test\n",
      "..       ...                                                ...\n",
      "195  2192891       how are braces put on and do they hurt a lot\n",
      "196  4406669                     what do you order at taco bell\n",
      "197  1582877  why do we go to school if in the real world we...\n",
      "198  1340574  why do some people only go to church on easter...\n",
      "199  1971899                                  what is masturbat\n",
      "\n",
      "[200 rows x 2 columns]\n"
     ]
    },
    {
     "name": "stderr",
     "output_type": "stream",
     "text": [
      "antique/test documents:   0%|          | 0/403666 [00:00<?, ?it/s]"
     ]
    },
    {
     "name": "stdout",
     "output_type": "stream",
     "text": [
      "<pyterrier.datasets.GeneratorLen object at 0x74d514100710>\n"
     ]
    },
    {
     "name": "stderr",
     "output_type": "stream",
     "text": [
      "\n"
     ]
    }
   ],
   "source": [
    "#topics\n",
    "topics = dataset.get_topics()\n",
    "print(topics)\n",
    "\n",
    "#texto\n",
    "print(dataset.get_corpus_iter())\n"
   ]
  },
  {
   "cell_type": "markdown",
   "metadata": {},
   "source": [
    "# Utilizando bm25 para la recuperación de documentos"
   ]
  },
  {
   "cell_type": "code",
   "execution_count": 7,
   "metadata": {},
   "outputs": [],
   "source": [
    "bm25 = pt.terrier.Retriever(index_ref, wmodel='BM25') >> pt.text.get_text(dataset, \"text\")"
   ]
  },
  {
   "cell_type": "markdown",
   "metadata": {},
   "source": [
    "# Experimento de recuperación de documentos con bm25"
   ]
  },
  {
   "cell_type": "code",
   "execution_count": 8,
   "metadata": {},
   "outputs": [
    {
     "name": "stdout",
     "output_type": "stream",
     "text": [
      "                                                name        AP   nDCG@20\n",
      "0  Compose(TerrierRetr(BM25), <pyterrier.datasets...  0.451778  0.478976\n",
      "Column names: Index(['name', 'AP', 'nDCG@20'], dtype='object')\n"
     ]
    },
    {
     "name": "stderr",
     "output_type": "stream",
     "text": [
      "/tmp/ipykernel_28177/3989855442.py:21: UserWarning: Tight layout not applied. The bottom and top margins cannot be made large enough to accommodate all Axes decorations.\n",
      "  plt.tight_layout()\n"
     ]
    },
    {
     "data": {
      "text/plain": [
       "<Figure size 1000x600 with 0 Axes>"
      ]
     },
     "metadata": {},
     "output_type": "display_data"
    },
    {
     "data": {
      "image/png": "[encoded data removed]",
      "text/plain": [
       "<Figure size 640x480 with 1 Axes>"
      ]
     },
     "metadata": {},
     "output_type": "display_data"
    }
   ],
   "source": [
    "#experimento de recuperación\n",
    "results = pt.Experiment(\n",
    "    [bm25],\n",
    "    dataset.get_topics(),\n",
    "    dataset.get_qrels(),\n",
    "    [MAP, nDCG@20]\n",
    ")\n",
    "\n",
    "print(results)\n",
    "\n",
    "\n",
    "print(\"Column names:\", results.columns)\n",
    "\n",
    "plt.figure(figsize=(10, 6))\n",
    "metric_columns = [col for col in results.columns if col not in ['name', 'query']]\n",
    "results.plot(x='name', y=metric_columns, kind='bar')\n",
    "plt.title('BM25 Performance')\n",
    "plt.xlabel('Model')\n",
    "plt.ylabel('Score')\n",
    "plt.legend(title='Metric')\n",
    "plt.tight_layout()\n",
    "plt.show()"
   ]
  },
  {
   "cell_type": "markdown",
   "metadata": {},
   "source": [
    "# Prueba del modelo con una consulta"
   ]
  },
  {
   "cell_type": "code",
   "execution_count": 9,
   "metadata": {},
   "outputs": [
    {
     "name": "stdout",
     "output_type": "stream",
     "text": [
      "Results for the query: capital of france\n",
      "Shape of results: (1000, 7)\n",
      "First few rows of results:\n",
      "  qid   docid      docno  rank      score              query  \\\n",
      "0   1    3887  1379520_2     0  18.772981  capital of france   \n",
      "1   1  160566  1182771_7     1  17.947606  capital of france   \n",
      "2   1   42629  4034012_0     2  16.782848  capital of france   \n",
      "3   1   33301  1786215_2     3  16.174941  capital of france   \n",
      "4   1   33299  1786215_0     4  15.382640  capital of france   \n",
      "\n",
      "                                                text  \n",
      "0  It's more liberal because it's population is m...  \n",
      "1  lots of times people want to be the first to a...  \n",
      "2  Berlin is the Capital of Germany.. . It as als...  \n",
      "3  Capitalization means proprely using capital le...  \n",
      "4  capitalization is when you get money (also kno...  \n"
     ]
    },
    {
     "data": {
      "text/html": [
       "\n",
       "    <style>\n",
       "        .scrollable-cell {\n",
       "            max-height: 100px;\n",
       "            overflow-y: auto;\n",
       "        }\n",
       "    </style>\n",
       "    <table border=\"1\" class=\"dataframe table table-striped\">\n",
       "  <thead>\n",
       "    <tr style=\"text-align: right;\">\n",
       "      <th>rank</th>\n",
       "      <th>query</th>\n",
       "      <th>text</th>\n",
       "    </tr>\n",
       "  </thead>\n",
       "  <tbody>\n",
       "    <tr>\n",
       "      <td class=\"scrollable-cell\">0</td>\n",
       "      <td class=\"scrollable-cell\">capital of france</td>\n",
       "      <td class=\"scrollable-cell\">It's more liberal because it's population is more open mined and accepting than any other city or state in the USA. San Francisco is known by many as 'The American Paris'. Paris France is the Gay Capital of the world, San Francisco is the Gay Capital of the USA. The world could learn many valuable lessons from both places.</td>\n",
       "    </tr>\n",
       "    <tr>\n",
       "      <td class=\"scrollable-cell\">1</td>\n",
       "      <td class=\"scrollable-cell\">capital of france</td>\n",
       "      <td class=\"scrollable-cell\">lots of times people want to be the first to answer so they can collect on the ten points. think about a question such as what is the capital of france. if they do not hurry up some one else will get and they they will loose out on their ten points. lol but u know some of us are loosers.</td>\n",
       "    </tr>\n",
       "    <tr>\n",
       "      <td class=\"scrollable-cell\">2</td>\n",
       "      <td class=\"scrollable-cell\">capital of france</td>\n",
       "      <td class=\"scrollable-cell\">Berlin is the Capital of Germany.. . It as also the Capital before Germany was split in 2. . After WWII The Soviets got East Berlin (which became the Capital of East German) and America, Britian and France got portions of West Berlin.. . West Berlin went under West German rule although until 1991 the American, British and French sectors still existed in West Berlin (meaning those countries still had some authority in their sectors but they relinquished it months after East and West Germany reunited).</td>\n",
       "    </tr>\n",
       "    <tr>\n",
       "      <td class=\"scrollable-cell\">3</td>\n",
       "      <td class=\"scrollable-cell\">capital of france</td>\n",
       "      <td class=\"scrollable-cell\">Capitalization means proprely using capital letters. Capitalism is an economic philosophy.</td>\n",
       "    </tr>\n",
       "    <tr>\n",
       "      <td class=\"scrollable-cell\">4</td>\n",
       "      <td class=\"scrollable-cell\">capital of france</td>\n",
       "      <td class=\"scrollable-cell\">capitalization is when you get money (also known as capital) for your stuff (also known as assets).  SO if you ahev a car, and you capitalize it, you'll have whatever the car is worth.</td>\n",
       "    </tr>\n",
       "  </tbody>\n",
       "</table>\n",
       "    "
      ],
      "text/plain": [
       "<IPython.core.display.HTML object>"
      ]
     },
     "metadata": {},
     "output_type": "display_data"
    }
   ],
   "source": [
    "from IPython.display import display, HTML\n",
    "\n",
    "#query de prueba\n",
    "sample_query = \"capital of france\"\n",
    "results = bm25.search(sample_query)\n",
    "\n",
    "print(\"Results for the query:\", sample_query)\n",
    "\n",
    "print(\"Shape of results:\", results.shape)\n",
    "print(\"First few rows of results:\")\n",
    "print(results.head())\n",
    "\n",
    "# Create a function to display results with scrollable text\n",
    "def display_results_with_scroll(df, max_rows=5):\n",
    "    df_html = df.to_html(index=False, classes='table table-striped')\n",
    "    display(HTML(f\"\"\"\n",
    "    <style>\n",
    "        .scrollable-cell {{\n",
    "            max-height: 100px;\n",
    "            overflow-y: auto;\n",
    "        }}\n",
    "    </style>\n",
    "    {df_html.replace('<td>', '<td class=\"scrollable-cell\">')}\n",
    "    \"\"\"))\n",
    "\n",
    "# Display results without the index, and with scrollable text\n",
    "display_results_with_scroll(results[['rank', 'query', 'text']].head(5))"
   ]
  }
 ],
 "metadata": {
  "kernelspec": {
   "display_name": "qppenv",
   "language": "python",
   "name": "python3"
  },
  "language_info": {
   "codemirror_mode": {
    "name": "ipython",
    "version": 3
   },
   "file_extension": ".py",
   "mimetype": "text/x-python",
   "name": "python",
   "nbconvert_exporter": "python",
   "pygments_lexer": "ipython3",
   "version": "3.12.1"
  }
 },
 "nbformat": 4,
 "nbformat_minor": 2
}
